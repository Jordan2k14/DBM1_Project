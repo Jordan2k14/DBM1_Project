

{
 "cells": [
  {
   "cell_type": "markdown",
   "metadata": {},
   "source": [
    "# Instructions\n",
    "### Jordan Ukawoko, Chad Long, Luca Bova\n"
   ]
  },
  {
   "cell_type": "markdown",
   "metadata": {},
   "source": [
    "## How to run the database:\n",
    "   1. Make sure psycopg2 is installed\n",
    "   2. Make sure you change the username and password and port (if needed) for each of the files to your corresponding postgre username and password (it is currently set to my details)\n",
    "   3. First use the cd command to go into the Database-Code fodler \"cd Database-Code\" on your terminal\n",
    "   4. When you have changed the localhost, username and password to your own details for the 10 files (this is tedious I know....sorry) use python3 connect.py, python3 create.py, python3 game_platform2.py etc\n",
    "   in order to add these to your PostGre database. Do this in the order of the files etc first use connect.py then create.py then game_platform2.py etc etc \n",
    "\n",
    "   - We seperated the tables into different files because some of the tables had thousands of data entires ! \n",
    "  \n",
    "   \n",
    "## How to run the HTML Website:\n",
    "   1. Everything is already in a folder so just click the index.html file to open the HTML website. This is not a fullstack site but rather a fun little html website we made with the extra time we had, which\n",
    "   means there is no hosting for this HTML Website. Just click the index.html to open the website!\n",
    "  \n",
    "   "
   ]
  },
  {
   "cell_type": "markdown",
   "metadata": {},
   "source": [
    "#### Code Snippet Example "
   ]
  },
  {
   "cell_type": "code",
   "execution_count": null,
   "metadata": {},
   "outputs": [],
   "source": [
    "# Change the details here to your own postgre details\n",
    "con = psycopg2.connect(user = \"postgres\", # Change to your username\n",
    "                       password = \"sora\", # Change to your password\n",
    "                       host = \"localhost\", # localhost worked for us, however you can change if you want\n",
    "                       port = \"5433\", # Change the port if need be. Port 5433 worked for us instead of 5432\n",
    "                       database = \"videogames\") # Keep this ! \n"
   ]
  },
  {
   "cell_type": "markdown",
   "metadata": {},
   "source": [
    "**<center> <font color='red'>END!</font></center>**"
   ]
  }
 ],
 "metadata": {
  "kernelspec": {
   "display_name": "Python 3.10.6 64-bit",
   "language": "python",
   "name": "python3"
  },
  "language_info": {
   "codemirror_mode": {
    "name": "ipython",
    "version": 3
   },
   "file_extension": ".py",
   "mimetype": "text/x-python",
   "name": "python",
   "nbconvert_exporter": "python",
   "pygments_lexer": "ipython3",
   "version": "3.10.6"
  },
  "vscode": {
   "interpreter": {
    "hash": "aee8b7b246df8f9039afb4144a1f6fd8d2ca17a180786b69acc140d282b71a49"
   }
  }
 },
 "nbformat": 4,
 "nbformat_minor": 2
}
